{
 "cells": [
  {
   "cell_type": "code",
   "execution_count": 1,
   "id": "a0431861",
   "metadata": {},
   "outputs": [],
   "source": [
    "import pandas as pd\n"
   ]
  },
  {
   "cell_type": "code",
   "execution_count": 2,
   "id": "e7310c1a",
   "metadata": {},
   "outputs": [],
   "source": [
    "seri = pd.Series([10,20,30,40], index=[555,444,333,222])"
   ]
  },
  {
   "cell_type": "code",
   "execution_count": 4,
   "id": "f0dd16ac",
   "metadata": {},
   "outputs": [],
   "source": [
    "seri2 = pd.Series([11,22,33,44], index= [\"a\",\"b\",\"c\",\"d\"])"
   ]
  },
  {
   "cell_type": "code",
   "execution_count": 7,
   "id": "78e46cbd",
   "metadata": {},
   "outputs": [
    {
     "data": {
      "text/plain": [
       "555    10\n",
       "444    20\n",
       "333    30\n",
       "222    40\n",
       "dtype: int64"
      ]
     },
     "execution_count": 7,
     "metadata": {},
     "output_type": "execute_result"
    }
   ],
   "source": [
    "seri"
   ]
  },
  {
   "cell_type": "code",
   "execution_count": 8,
   "id": "1a06f309",
   "metadata": {},
   "outputs": [
    {
     "data": {
      "text/plain": [
       "a    11\n",
       "b    22\n",
       "c    33\n",
       "d    44\n",
       "dtype: int64"
      ]
     },
     "execution_count": 8,
     "metadata": {},
     "output_type": "execute_result"
    }
   ],
   "source": [
    "seri2"
   ]
  },
  {
   "cell_type": "code",
   "execution_count": 10,
   "id": "f8bcf567",
   "metadata": {},
   "outputs": [
    {
     "data": {
      "text/plain": [
       "444    20\n",
       "333    30\n",
       "dtype: int64"
      ]
     },
     "execution_count": 10,
     "metadata": {},
     "output_type": "execute_result"
    }
   ],
   "source": [
    "seri[1:3]"
   ]
  },
  {
   "cell_type": "code",
   "execution_count": 11,
   "id": "a46ae93b",
   "metadata": {},
   "outputs": [
    {
     "data": {
      "text/plain": [
       "a    11\n",
       "b    22\n",
       "c    33\n",
       "dtype: int64"
      ]
     },
     "execution_count": 11,
     "metadata": {},
     "output_type": "execute_result"
    }
   ],
   "source": [
    "seri2[:\"c\"]"
   ]
  },
  {
   "cell_type": "code",
   "execution_count": 12,
   "id": "d5842975",
   "metadata": {},
   "outputs": [],
   "source": [
    "dictTemp = {\"reg\":10,\"log\":11,\"cart\":12}"
   ]
  },
  {
   "cell_type": "code",
   "execution_count": 13,
   "id": "999b8e4c",
   "metadata": {},
   "outputs": [],
   "source": [
    "seri3 = pd.Series(dictTemp)"
   ]
  },
  {
   "cell_type": "code",
   "execution_count": 14,
   "id": "0c6a2d91",
   "metadata": {},
   "outputs": [
    {
     "data": {
      "text/plain": [
       "reg     10\n",
       "log     11\n",
       "cart    12\n",
       "dtype: int64"
      ]
     },
     "execution_count": 14,
     "metadata": {},
     "output_type": "execute_result"
    }
   ],
   "source": [
    "seri3"
   ]
  },
  {
   "cell_type": "code",
   "execution_count": null,
   "id": "49f856c0",
   "metadata": {},
   "outputs": [],
   "source": []
  }
 ],
 "metadata": {
  "kernelspec": {
   "display_name": "Python 3 (ipykernel)",
   "language": "python",
   "name": "python3"
  },
  "language_info": {
   "codemirror_mode": {
    "name": "ipython",
    "version": 3
   },
   "file_extension": ".py",
   "mimetype": "text/x-python",
   "name": "python",
   "nbconvert_exporter": "python",
   "pygments_lexer": "ipython3",
   "version": "3.9.13"
  }
 },
 "nbformat": 4,
 "nbformat_minor": 5
}
