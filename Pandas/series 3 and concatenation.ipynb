{
 "cells": [
  {
   "cell_type": "code",
   "execution_count": 2,
   "id": "9102507a",
   "metadata": {},
   "outputs": [],
   "source": [
    "import pandas as pd\n",
    "import numpy as np"
   ]
  },
  {
   "cell_type": "code",
   "execution_count": 10,
   "id": "c337ff05",
   "metadata": {},
   "outputs": [],
   "source": [
    "data1 = np.random.randint(1,100,5)"
   ]
  },
  {
   "cell_type": "code",
   "execution_count": 11,
   "id": "8a099294",
   "metadata": {},
   "outputs": [
    {
     "data": {
      "text/plain": [
       "array([68, 75, 16, 46, 94])"
      ]
     },
     "execution_count": 11,
     "metadata": {},
     "output_type": "execute_result"
    }
   ],
   "source": [
    "data1"
   ]
  },
  {
   "cell_type": "code",
   "execution_count": 12,
   "id": "2594a3d3",
   "metadata": {},
   "outputs": [],
   "source": [
    "data2 = np.random.randint(100,1000,5)"
   ]
  },
  {
   "cell_type": "code",
   "execution_count": 13,
   "id": "91af89ac",
   "metadata": {},
   "outputs": [
    {
     "data": {
      "text/plain": [
       "array([250, 439, 470, 612, 154])"
      ]
     },
     "execution_count": 13,
     "metadata": {},
     "output_type": "execute_result"
    }
   ],
   "source": [
    "data2"
   ]
  },
  {
   "cell_type": "code",
   "execution_count": 18,
   "id": "4dd7e2e7",
   "metadata": {},
   "outputs": [],
   "source": [
    "series1 = pd.Series(data1)"
   ]
  },
  {
   "cell_type": "code",
   "execution_count": 19,
   "id": "0c07b208",
   "metadata": {},
   "outputs": [
    {
     "data": {
      "text/plain": [
       "0    68\n",
       "1    75\n",
       "2    16\n",
       "3    46\n",
       "4    94\n",
       "dtype: int32"
      ]
     },
     "execution_count": 19,
     "metadata": {},
     "output_type": "execute_result"
    }
   ],
   "source": [
    "series1"
   ]
  },
  {
   "cell_type": "code",
   "execution_count": 20,
   "id": "d65e9b7a",
   "metadata": {},
   "outputs": [],
   "source": [
    "series2 = pd.Series(data2)"
   ]
  },
  {
   "cell_type": "code",
   "execution_count": 21,
   "id": "c3d45fc9",
   "metadata": {},
   "outputs": [
    {
     "data": {
      "text/plain": [
       "0    250\n",
       "1    439\n",
       "2    470\n",
       "3    612\n",
       "4    154\n",
       "dtype: int32"
      ]
     },
     "execution_count": 21,
     "metadata": {},
     "output_type": "execute_result"
    }
   ],
   "source": [
    "series2"
   ]
  },
  {
   "cell_type": "code",
   "execution_count": 22,
   "id": "1ba57c7e",
   "metadata": {},
   "outputs": [],
   "source": [
    "concatSeri = pd.concat([series1,series2])"
   ]
  },
  {
   "cell_type": "code",
   "execution_count": 23,
   "id": "bb10ee74",
   "metadata": {},
   "outputs": [
    {
     "data": {
      "text/plain": [
       "0     68\n",
       "1     75\n",
       "2     16\n",
       "3     46\n",
       "4     94\n",
       "0    250\n",
       "1    439\n",
       "2    470\n",
       "3    612\n",
       "4    154\n",
       "dtype: int32"
      ]
     },
     "execution_count": 23,
     "metadata": {},
     "output_type": "execute_result"
    }
   ],
   "source": [
    "concatSeri"
   ]
  },
  {
   "cell_type": "code",
   "execution_count": null,
   "id": "cdca0ded",
   "metadata": {},
   "outputs": [],
   "source": []
  }
 ],
 "metadata": {
  "kernelspec": {
   "display_name": "Python 3 (ipykernel)",
   "language": "python",
   "name": "python3"
  },
  "language_info": {
   "codemirror_mode": {
    "name": "ipython",
    "version": 3
   },
   "file_extension": ".py",
   "mimetype": "text/x-python",
   "name": "python",
   "nbconvert_exporter": "python",
   "pygments_lexer": "ipython3",
   "version": "3.9.13"
  }
 },
 "nbformat": 4,
 "nbformat_minor": 5
}
