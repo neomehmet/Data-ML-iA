{
 "cells": [
  {
   "cell_type": "code",
   "execution_count": 1,
   "id": "b1be690c",
   "metadata": {},
   "outputs": [],
   "source": [
    "import numpy as np\n",
    "import pandas as pd\n"
   ]
  },
  {
   "cell_type": "code",
   "execution_count": 2,
   "id": "565c2a21",
   "metadata": {},
   "outputs": [],
   "source": [
    "data = np.random.randint(1,1000,5)"
   ]
  },
  {
   "cell_type": "code",
   "execution_count": 3,
   "id": "d2b4def7",
   "metadata": {},
   "outputs": [
    {
     "data": {
      "text/plain": [
       "array([192, 984, 980, 790, 731])"
      ]
     },
     "execution_count": 3,
     "metadata": {},
     "output_type": "execute_result"
    }
   ],
   "source": [
    "data"
   ]
  },
  {
   "cell_type": "code",
   "execution_count": 4,
   "id": "de23ae24",
   "metadata": {},
   "outputs": [],
   "source": [
    "series = pd.Series(data)"
   ]
  },
  {
   "cell_type": "code",
   "execution_count": 5,
   "id": "c8d954c7",
   "metadata": {},
   "outputs": [
    {
     "data": {
      "text/plain": [
       "0    192\n",
       "1    984\n",
       "2    980\n",
       "3    790\n",
       "4    731\n",
       "dtype: int32"
      ]
     },
     "execution_count": 5,
     "metadata": {},
     "output_type": "execute_result"
    }
   ],
   "source": [
    "series"
   ]
  },
  {
   "cell_type": "code",
   "execution_count": 6,
   "id": "0a3aef0d",
   "metadata": {},
   "outputs": [
    {
     "data": {
      "text/plain": [
       "0    192\n",
       "1    984\n",
       "dtype: int32"
      ]
     },
     "execution_count": 6,
     "metadata": {},
     "output_type": "execute_result"
    }
   ],
   "source": [
    "series[:2]"
   ]
  },
  {
   "cell_type": "code",
   "execution_count": 7,
   "id": "e1d562ab",
   "metadata": {},
   "outputs": [],
   "source": [
    "series2 = pd.Series(data, index=[\"reg\",\"log\",\"cart\",\"lorem\",\"ipsum\"])"
   ]
  },
  {
   "cell_type": "code",
   "execution_count": 8,
   "id": "a7842d81",
   "metadata": {},
   "outputs": [
    {
     "data": {
      "text/plain": [
       "reg      192\n",
       "log      984\n",
       "cart     980\n",
       "lorem    790\n",
       "ipsum    731\n",
       "dtype: int32"
      ]
     },
     "execution_count": 8,
     "metadata": {},
     "output_type": "execute_result"
    }
   ],
   "source": [
    "series2"
   ]
  },
  {
   "cell_type": "code",
   "execution_count": 9,
   "id": "bcec590a",
   "metadata": {},
   "outputs": [
    {
     "data": {
      "text/plain": [
       "Index(['reg', 'log', 'cart', 'lorem', 'ipsum'], dtype='object')"
      ]
     },
     "execution_count": 9,
     "metadata": {},
     "output_type": "execute_result"
    }
   ],
   "source": [
    "series2.index"
   ]
  },
  {
   "cell_type": "code",
   "execution_count": 10,
   "id": "448df6e9",
   "metadata": {},
   "outputs": [
    {
     "data": {
      "text/plain": [
       "array([192, 984, 980, 790, 731])"
      ]
     },
     "execution_count": 10,
     "metadata": {},
     "output_type": "execute_result"
    }
   ],
   "source": [
    "series2.values"
   ]
  },
  {
   "cell_type": "code",
   "execution_count": 11,
   "id": "7a0d3d1e",
   "metadata": {},
   "outputs": [
    {
     "data": {
      "text/plain": [
       "<bound method Series.keys of reg      192\n",
       "log      984\n",
       "cart     980\n",
       "lorem    790\n",
       "ipsum    731\n",
       "dtype: int32>"
      ]
     },
     "execution_count": 11,
     "metadata": {},
     "output_type": "execute_result"
    }
   ],
   "source": [
    "series2.keys"
   ]
  },
  {
   "cell_type": "code",
   "execution_count": 12,
   "id": "ccc4ba5f",
   "metadata": {},
   "outputs": [
    {
     "data": {
      "text/plain": [
       "[('reg', 192), ('log', 984), ('cart', 980), ('lorem', 790), ('ipsum', 731)]"
      ]
     },
     "execution_count": 12,
     "metadata": {},
     "output_type": "execute_result"
    }
   ],
   "source": [
    "list(series2.items())"
   ]
  },
  {
   "cell_type": "code",
   "execution_count": 13,
   "id": "88c07276",
   "metadata": {},
   "outputs": [
    {
     "data": {
      "text/plain": [
       "{'reg': 192, 'log': 984, 'cart': 980, 'lorem': 790, 'ipsum': 731}"
      ]
     },
     "execution_count": 13,
     "metadata": {},
     "output_type": "execute_result"
    }
   ],
   "source": [
    "dict(series2.items())"
   ]
  },
  {
   "cell_type": "code",
   "execution_count": 14,
   "id": "09edca44",
   "metadata": {},
   "outputs": [
    {
     "data": {
      "text/plain": [
       "False"
      ]
     },
     "execution_count": 14,
     "metadata": {},
     "output_type": "execute_result"
    }
   ],
   "source": [
    "\"asd\" in series2"
   ]
  },
  {
   "cell_type": "code",
   "execution_count": 19,
   "id": "a60436f1",
   "metadata": {},
   "outputs": [
    {
     "data": {
      "text/plain": [
       "True"
      ]
     },
     "execution_count": 19,
     "metadata": {},
     "output_type": "execute_result"
    }
   ],
   "source": [
    "\"ipsum\" in series2 # search index"
   ]
  },
  {
   "cell_type": "code",
   "execution_count": 20,
   "id": "b0c8d900",
   "metadata": {},
   "outputs": [
    {
     "data": {
      "text/plain": [
       "False"
      ]
     },
     "execution_count": 20,
     "metadata": {},
     "output_type": "execute_result"
    }
   ],
   "source": [
    "\"192\" in series2 # search index.. not value"
   ]
  },
  {
   "cell_type": "code",
   "execution_count": 23,
   "id": "cb18a5e0",
   "metadata": {},
   "outputs": [
    {
     "data": {
      "text/plain": [
       "731"
      ]
     },
     "execution_count": 23,
     "metadata": {},
     "output_type": "execute_result"
    }
   ],
   "source": [
    "series2[\"ipsum\"] #search value via keys\n"
   ]
  },
  {
   "cell_type": "code",
   "execution_count": 28,
   "id": "98b8b5e3",
   "metadata": {},
   "outputs": [
    {
     "data": {
      "text/plain": [
       "ipsum    731\n",
       "log      984\n",
       "ipsum    731\n",
       "dtype: int32"
      ]
     },
     "execution_count": 28,
     "metadata": {},
     "output_type": "execute_result"
    }
   ],
   "source": [
    "series2[[\"ipsum\",\"log\",\"ipsum\"]] # fancy indexing"
   ]
  },
  {
   "cell_type": "code",
   "execution_count": 30,
   "id": "9c364f29",
   "metadata": {},
   "outputs": [],
   "source": [
    "series2[\"log\"] = 999999"
   ]
  },
  {
   "cell_type": "code",
   "execution_count": 31,
   "id": "44c13ce6",
   "metadata": {},
   "outputs": [
    {
     "data": {
      "text/plain": [
       "999999"
      ]
     },
     "execution_count": 31,
     "metadata": {},
     "output_type": "execute_result"
    }
   ],
   "source": [
    "series2.log"
   ]
  },
  {
   "cell_type": "code",
   "execution_count": 32,
   "id": "78ae70d4",
   "metadata": {},
   "outputs": [
    {
     "data": {
      "text/plain": [
       "999999"
      ]
     },
     "execution_count": 32,
     "metadata": {},
     "output_type": "execute_result"
    }
   ],
   "source": [
    "series2[\"log\"]"
   ]
  },
  {
   "cell_type": "code",
   "execution_count": 33,
   "id": "8bd105cd",
   "metadata": {},
   "outputs": [],
   "source": [
    "series2[\"log\"] = 00"
   ]
  },
  {
   "cell_type": "code",
   "execution_count": 34,
   "id": "529cf12e",
   "metadata": {},
   "outputs": [
    {
     "data": {
      "text/plain": [
       "0"
      ]
     },
     "execution_count": 34,
     "metadata": {},
     "output_type": "execute_result"
    }
   ],
   "source": [
    "series2.log"
   ]
  },
  {
   "cell_type": "code",
   "execution_count": 35,
   "id": "855e04f2",
   "metadata": {},
   "outputs": [
    {
     "data": {
      "text/plain": [
       "reg      192\n",
       "log        0\n",
       "cart     980\n",
       "lorem    790\n",
       "dtype: int32"
      ]
     },
     "execution_count": 35,
     "metadata": {},
     "output_type": "execute_result"
    }
   ],
   "source": [
    "series2[\"reg\":\"lorem\"]"
   ]
  },
  {
   "cell_type": "code",
   "execution_count": 40,
   "id": "c5931c00",
   "metadata": {},
   "outputs": [
    {
     "data": {
      "text/plain": [
       "reg      192\n",
       "log        0\n",
       "cart     980\n",
       "lorem    790\n",
       "dtype: int32"
      ]
     },
     "execution_count": 40,
     "metadata": {},
     "output_type": "execute_result"
    }
   ],
   "source": [
    "series2[\"reg\":\"lorem\"] "
   ]
  },
  {
   "cell_type": "code",
   "execution_count": 41,
   "id": "5b176962",
   "metadata": {},
   "outputs": [],
   "source": [
    "series2[\"reg\":\"lorem\"]  = 0"
   ]
  },
  {
   "cell_type": "code",
   "execution_count": 42,
   "id": "35edf0ac",
   "metadata": {},
   "outputs": [
    {
     "data": {
      "text/plain": [
       "reg        0\n",
       "log        0\n",
       "cart       0\n",
       "lorem      0\n",
       "ipsum    731\n",
       "dtype: int32"
      ]
     },
     "execution_count": 42,
     "metadata": {},
     "output_type": "execute_result"
    }
   ],
   "source": [
    "series2"
   ]
  },
  {
   "cell_type": "code",
   "execution_count": null,
   "id": "b4e7a420",
   "metadata": {},
   "outputs": [],
   "source": []
  }
 ],
 "metadata": {
  "kernelspec": {
   "display_name": "Python 3 (ipykernel)",
   "language": "python",
   "name": "python3"
  },
  "language_info": {
   "codemirror_mode": {
    "name": "ipython",
    "version": 3
   },
   "file_extension": ".py",
   "mimetype": "text/x-python",
   "name": "python",
   "nbconvert_exporter": "python",
   "pygments_lexer": "ipython3",
   "version": "3.9.13"
  }
 },
 "nbformat": 4,
 "nbformat_minor": 5
}
